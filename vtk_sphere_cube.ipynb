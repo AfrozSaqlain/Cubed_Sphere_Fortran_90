{
 "cells": [
  {
   "cell_type": "code",
   "execution_count": 9,
   "metadata": {},
   "outputs": [],
   "source": [
    "import vtkmodules.all as vtk\n",
    "import numpy as np\n",
    "import pandas as pd\n",
    "\n",
    "# Create a VTK points object\n",
    "points = vtk.vtkPoints()\n",
    "\n",
    "# Create a VTK unstructured grid\n",
    "ugrid = vtk.vtkUnstructuredGrid()\n",
    "\n",
    "df = pd.read_csv(\"sphere_cubed_grid_points.csv\", header=None)"
   ]
  },
  {
   "cell_type": "code",
   "execution_count": 10,
   "metadata": {},
   "outputs": [],
   "source": [
    "df = df.values"
   ]
  },
  {
   "cell_type": "code",
   "execution_count": 11,
   "metadata": {},
   "outputs": [],
   "source": [
    "# Define the dimensions of your data\n",
    "num_rows = df.shape[0]\n",
    "num_cols = df.shape[1]\n"
   ]
  },
  {
   "cell_type": "code",
   "execution_count": 12,
   "metadata": {},
   "outputs": [
    {
     "data": {
      "text/plain": [
       "1"
      ]
     },
     "execution_count": 12,
     "metadata": {},
     "output_type": "execute_result"
    }
   ],
   "source": [
    "# Populate the VTK points and cells\n",
    "for i in range(num_rows):\n",
    "    # for j in range(num_cols):\n",
    "        # Add each point to the VTK points object\n",
    "    points.InsertNextPoint(df[i])\n",
    "\n",
    "# Set the points for the unstructured grid\n",
    "ugrid.SetPoints(points)\n",
    "\n",
    "# Create a VTK writer\n",
    "writer = vtk.vtkUnstructuredGridWriter()\n",
    "writer.SetFileName(\"output.vtk\")  # Specify the output file name\n",
    "writer.SetInputData(ugrid)\n",
    "\n",
    "# Write the data to the VTK file\n",
    "writer.Write()"
   ]
  },
  {
   "cell_type": "markdown",
   "metadata": {},
   "source": [
    "# Lines Display"
   ]
  },
  {
   "cell_type": "code",
   "execution_count": 24,
   "metadata": {},
   "outputs": [],
   "source": [
    "import vtkmodules.all as vtk\n",
    "import numpy as np\n",
    "import pandas as pd\n",
    "\n",
    "# Read the CSV file into a Pandas DataFrame\n",
    "df = pd.read_csv(\"sphere_cubed_grid_lines_lines.csv\", header=None)\n",
    "data_values = df.values"
   ]
  },
  {
   "cell_type": "code",
   "execution_count": 25,
   "metadata": {},
   "outputs": [],
   "source": [
    "\n",
    "# Create a VTK PolyData object to store the lines\n",
    "lines_polydata = vtk.vtkPolyData()\n",
    "\n",
    "# Create the points and lines arrays\n",
    "points = vtk.vtkPoints()\n",
    "lines_array = vtk.vtkCellArray()\n",
    "\n",
    "# Create a VTK unstructured grid\n",
    "ugrid = vtk.vtkUnstructuredGrid()"
   ]
  },
  {
   "cell_type": "code",
   "execution_count": 26,
   "metadata": {},
   "outputs": [],
   "source": [
    "for i in range(0, len(data_values), 2):\n",
    "    # Extract the start and end points from the DataFrame\n",
    "    start_coords = data_values[i]\n",
    "    end_coords = data_values[i + 1]\n",
    "\n",
    "    # Add points to the VTK Points object\n",
    "    start_id = points.InsertNextPoint(start_coords)\n",
    "    end_id = points.InsertNextPoint(end_coords)\n",
    "\n",
    "    # Create a line connecting the start and end points\n",
    "    line = vtk.vtkLine()\n",
    "    line.GetPointIds().SetId(0, start_id)\n",
    "    line.GetPointIds().SetId(1, end_id)\n",
    "\n",
    "    # Add the line to the cell array\n",
    "    lines_array.InsertNextCell(line)"
   ]
  },
  {
   "cell_type": "code",
   "execution_count": 27,
   "metadata": {},
   "outputs": [
    {
     "data": {
      "text/plain": [
       "1"
      ]
     },
     "execution_count": 27,
     "metadata": {},
     "output_type": "execute_result"
    }
   ],
   "source": [
    "# Add the points and lines to the PolyData object\n",
    "lines_polydata.SetPoints(points)\n",
    "lines_polydata.SetLines(lines_array)\n",
    "\n",
    "# Write the PolyData to a VTK file\n",
    "vtk_writer = vtk.vtkPolyDataWriter()\n",
    "vtk_writer.SetFileName('output.vtk')\n",
    "vtk_writer.SetInputData(lines_polydata)\n",
    "vtk_writer.Write()"
   ]
  },
  {
   "cell_type": "markdown",
   "metadata": {},
   "source": [
    "## New Line Code"
   ]
  },
  {
   "cell_type": "code",
   "execution_count": 28,
   "metadata": {},
   "outputs": [
    {
     "data": {
      "text/plain": [
       "1"
      ]
     },
     "execution_count": 28,
     "metadata": {},
     "output_type": "execute_result"
    }
   ],
   "source": [
    "import vtkmodules.all as vtk\n",
    "import numpy as np\n",
    "import pandas as pd\n",
    "\n",
    "# Read the CSV file into a Pandas DataFrame\n",
    "df = pd.read_csv(\"sphere_cubed_grid_lines_lines.csv\", header=None)\n",
    "data_values = df.values\n",
    "\n",
    "# Create a VTK PolyData object to store the lines\n",
    "lines_polydata = vtk.vtkPolyData()\n",
    "\n",
    "# Create the points and lines arrays\n",
    "points = vtk.vtkPoints()\n",
    "lines_array = vtk.vtkCellArray()\n",
    "\n",
    "for i in range(0, len(data_values), 2):\n",
    "    # Extract the start and end points from the DataFrame\n",
    "    start_coords = data_values[i]\n",
    "    end_coords = data_values[i + 1]\n",
    "\n",
    "    # Add points to the VTK Points object\n",
    "    start_id = points.InsertNextPoint(start_coords)\n",
    "    end_id = points.InsertNextPoint(end_coords)\n",
    "\n",
    "    # Create a line connecting the start and end points\n",
    "    line = vtk.vtkLine()\n",
    "    line.GetPointIds().SetId(0, start_id)\n",
    "    line.GetPointIds().SetId(1, end_id)\n",
    "\n",
    "    # Add the line to the cell array\n",
    "    lines_array.InsertNextCell(line)\n",
    "\n",
    "# Add the points and lines to the PolyData object\n",
    "lines_polydata.SetPoints(points)\n",
    "lines_polydata.SetLines(lines_array)\n",
    "\n",
    "# Write the PolyData to a VTK file\n",
    "vtk_writer = vtk.vtkPolyDataWriter()\n",
    "vtk_writer.SetFileName('output.vtk')\n",
    "vtk_writer.SetInputData(lines_polydata)\n",
    "vtk_writer.Write()\n"
   ]
  },
  {
   "cell_type": "markdown",
   "metadata": {},
   "source": [
    "## Test"
   ]
  },
  {
   "cell_type": "code",
   "execution_count": 8,
   "metadata": {},
   "outputs": [
    {
     "data": {
      "text/plain": [
       "1"
      ]
     },
     "execution_count": 8,
     "metadata": {},
     "output_type": "execute_result"
    }
   ],
   "source": [
    "import vtkmodules.all as vtk\n",
    "import numpy as np\n",
    "import pandas as pd\n",
    "\n",
    "# Create a VTK points object\n",
    "points = vtk.vtkPoints()\n",
    "\n",
    "# Create a VTK unstructured grid\n",
    "ugrid = vtk.vtkUnstructuredGrid()\n",
    "\n",
    "df = pd.read_csv(\"sphere_cubed_grid_points_nodes.txt\", header=None)\n",
    "\n",
    "# Assuming df has three columns (x, y, z coordinates), you can reshape it.\n",
    "coordinates = df.values.reshape(-1, 3)\n",
    "\n",
    "# Define the dimensions of your data\n",
    "num_rows = coordinates.shape[0]\n",
    "\n",
    "# Populate the VTK points\n",
    "for i in range(num_rows):\n",
    "    x, y, z = coordinates[i]  # Extract x, y, and z coordinates\n",
    "    points.InsertNextPoint(x, y, z)\n",
    "\n",
    "# Set the points for the unstructured grid\n",
    "ugrid.SetPoints(points)\n",
    "\n",
    "# Create a VTK writer\n",
    "writer = vtk.vtkUnstructuredGridWriter()\n",
    "writer.SetFileName(\"output.vtk\")  # Specify the output file name\n",
    "writer.SetInputData(ugrid)\n",
    "\n",
    "# Write the data to the VTK file\n",
    "writer.Write()\n"
   ]
  },
  {
   "cell_type": "markdown",
   "metadata": {},
   "source": []
  }
 ],
 "metadata": {
  "kernelspec": {
   "display_name": "Python 3",
   "language": "python",
   "name": "python3"
  },
  "language_info": {
   "codemirror_mode": {
    "name": "ipython",
    "version": 3
   },
   "file_extension": ".py",
   "mimetype": "text/x-python",
   "name": "python",
   "nbconvert_exporter": "python",
   "pygments_lexer": "ipython3",
   "version": "3.11.6"
  },
  "orig_nbformat": 4
 },
 "nbformat": 4,
 "nbformat_minor": 2
}
